{
 "cells": [
  {
   "cell_type": "markdown",
   "metadata": {},
   "source": [
    "This assignment is intended to ensure that you are able to edit and submit Jupyter Notebooks. \n",
    "\n",
    "The goal is to write a function to count the frequency of different characters in a given string. For example: character_frequency('google') should return a `dict`: {'g': 2, 'o': 2, 'l': 1, 'e': 1}. \n",
    "\n",
    "There are many tutorials on the web that can show you how to use the Python data structures. Quite a few examples at: https://docs.python.org/3/tutorial/datastructures.html\n",
    "\n",
    "If you have any trouble with this at all (and we are sure at least some of you will), don't worry and stop by our office hours.\n",
    "\n",
    "You should edit the function definition below, make sure to press 'Shift + Enter' to execute it, and then execute the two function calls to check that the output is correct."
   ]
  },
  {
   "cell_type": "code",
   "execution_count": 3,
   "metadata": {},
   "outputs": [],
   "source": [
    "def character_frequency(s):\n",
    "    ret = dict()\n",
    "    for i in s:\n",
    "        ret[i] = ret.get(i,0) + 1\n",
    "    return ret"
   ]
  },
  {
   "cell_type": "code",
   "execution_count": 6,
   "metadata": {},
   "outputs": [
    {
     "data": {
      "text/plain": [
       "{'g': 2, 'o': 2, 'l': 1, 'e': 1}"
      ]
     },
     "execution_count": 6,
     "metadata": {},
     "output_type": "execute_result"
    }
   ],
   "source": [
    "character_frequency('google')"
   ]
  },
  {
   "cell_type": "code",
   "execution_count": 7,
   "metadata": {},
   "outputs": [
    {
     "data": {
      "text/plain": [
       "{'T': 1,\n",
       " 'h': 2,\n",
       " 'i': 6,\n",
       " 's': 7,\n",
       " ' ': 15,\n",
       " 'a': 5,\n",
       " 'g': 1,\n",
       " 'n': 6,\n",
       " 'm': 2,\n",
       " 'e': 10,\n",
       " 't': 10,\n",
       " 'd': 4,\n",
       " 'o': 6,\n",
       " 'u': 4,\n",
       " 'r': 3,\n",
       " 'y': 2,\n",
       " 'b': 3,\n",
       " 'l': 1,\n",
       " 'J': 1,\n",
       " 'p': 1,\n",
       " 'N': 1,\n",
       " 'k': 1,\n",
       " '.': 1}"
      ]
     },
     "execution_count": 7,
     "metadata": {},
     "output_type": "execute_result"
    }
   ],
   "source": [
    "character_frequency('This assignment is intended to ensure that you are able to edit and submit Jupyter Notebooks.')"
   ]
  },
  {
   "cell_type": "code",
   "execution_count": null,
   "metadata": {
    "collapsed": true
   },
   "outputs": [],
   "source": []
  }
 ],
 "metadata": {
  "kernelspec": {
   "display_name": "Python 3",
   "language": "python",
   "name": "python3"
  },
  "language_info": {
   "codemirror_mode": {
    "name": "ipython",
    "version": 3
   },
   "file_extension": ".py",
   "mimetype": "text/x-python",
   "name": "python",
   "nbconvert_exporter": "python",
   "pygments_lexer": "ipython3",
   "version": "3.7.3"
  }
 },
 "nbformat": 4,
 "nbformat_minor": 2
}
